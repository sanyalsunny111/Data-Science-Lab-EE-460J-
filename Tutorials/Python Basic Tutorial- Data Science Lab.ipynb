{
 "cells": [
  {
   "cell_type": "markdown",
   "id": "covered-diversity",
   "metadata": {},
   "source": [
    "# EE460J Data Science Lab (Spring 2022)\n",
    "\n",
    "### Author: Sunny Sanyal\n",
    "\n",
    "This notebook reviews some of the basic tools and techniques to be used in this course. This is just a warm before you jump right into the lab sessions. Following resources have been used in preparation of this tutorial:\n",
    "\n",
    "*  Python tutorial CS231n: Convolutional Neural Networks for Visual Recognition\n",
    "*  Python tutorial GEO371T/GEO391 - Introduction to Machine Learning for Geosciences"
   ]
  },
  {
   "cell_type": "code",
   "execution_count": 1,
   "id": "fabulous-arcade",
   "metadata": {},
   "outputs": [
    {
     "name": "stdout",
     "output_type": "stream",
     "text": [
      "Python 3.7.10\n"
     ]
    }
   ],
   "source": [
    "# Chcek you python version before you start\n",
    "\n",
    "!python --version"
   ]
  },
  {
   "cell_type": "markdown",
   "id": "homeless-centre",
   "metadata": {},
   "source": [
    "## Installation of Anaconda and creating environment\n",
    "\n",
    "1. Download anaconda from __[here](https://www.anaconda.com/products/individual)__ \n",
    "2. Install it. For installation steps read this  __[blog](https://medium.com/@GalarnykMichael/install-python-anaconda-on-windows-2020-f8e188f9a63d)__ "
   ]
  },
  {
   "cell_type": "markdown",
   "id": "exclusive-disclosure",
   "metadata": {},
   "source": [
    "#### Creating environment on anaconda prompt\n",
    "\n",
    "\n",
    "<code>conda create --name ml_pytorch python=3.7\n",
    "conda activate ml_pytorch\n",
    "conda install -c conda-forge tensorboardx tqdm python-louvain numpy pandas matplotlib \n",
    "conda install -c anaconda scikit-learn scipy pandas\n",
    "conda install pytorch torchvision -c pytorch\n",
    "</code>\n",
    "\n",
    "\n",
    "##### Adding the environment to your jupyter notebook\n",
    "\n",
    "\n",
    "<code>pip install -user ipykernel\n",
    "python -m ipykernel install --user --env name\n",
    "jupyter notebook \n",
    "</code>\n",
    "\n"
   ]
  },
  {
   "cell_type": "markdown",
   "id": "attended-reward",
   "metadata": {},
   "source": [
    "### Here is an example of the quicksort algorithm in python"
   ]
  },
  {
   "cell_type": "code",
   "execution_count": 7,
   "id": "acute-blast",
   "metadata": {},
   "outputs": [
    {
     "name": "stdout",
     "output_type": "stream",
     "text": [
      "[1, 2, 3, 5, 8, 12, 22, 54, 90]\n"
     ]
    }
   ],
   "source": [
    "def quicksort(arr):\n",
    "    if len(arr) <= 1:\n",
    "        return arr\n",
    "    pivot = arr[len(arr) // 2]\n",
    "    left = [x for x in arr if x < pivot]\n",
    "    middle = [x for x in arr if x == pivot]\n",
    "    right = [x for x in arr if x > pivot]\n",
    "    return quicksort(left) + middle + quicksort(right)\n",
    "\n",
    "print(quicksort([3, 5, 8, 2, 1, 90, 12, 54, 22]))"
   ]
  },
  {
   "cell_type": "markdown",
   "id": "sacred-lambda",
   "metadata": {},
   "source": [
    "## Datatypes in Python\n",
    "1. Integers 2. Float 3. Boolean 4. Strings 5. Containers"
   ]
  },
  {
   "cell_type": "markdown",
   "id": "lonely-orchestra",
   "metadata": {},
   "source": [
    "#### Examples : Integers, float and boolean"
   ]
  },
  {
   "cell_type": "code",
   "execution_count": 15,
   "id": "healthy-palace",
   "metadata": {
    "scrolled": true
   },
   "outputs": [
    {
     "name": "stdout",
     "output_type": "stream",
     "text": [
      "3 <class 'int'>\n",
      "2.4 <class 'float'>\n",
      "True <class 'bool'>\n",
      "False\n",
      "True\n",
      "False\n",
      "True\n"
     ]
    }
   ],
   "source": [
    "x = 3\n",
    "y = 2.4\n",
    "t = True\n",
    "f = False\n",
    "print (x, type(x))\n",
    "print (y, type(y))\n",
    "print (t, type(t))\n",
    "\n",
    "# Logical operations using booleans\n",
    "\n",
    "print(t and f) # Logical AND; \n",
    "print(t or f)  # Logical OR;  \n",
    "print(not t)   # Logical NOT;\n",
    "print(t != f)  # Logical XOR;"
   ]
  },
  {
   "cell_type": "markdown",
   "id": "active-correction",
   "metadata": {},
   "source": [
    "#### Examples : Strings"
   ]
  },
  {
   "cell_type": "code",
   "execution_count": 3,
   "id": "vietnamese-lease",
   "metadata": {},
   "outputs": [
    {
     "name": "stdout",
     "output_type": "stream",
     "text": [
      "hello 5\n",
      "hello world\n",
      "the answer to this question is 21\n"
     ]
    }
   ],
   "source": [
    "# string\n",
    "hello = 'hello'   # String literals can use single quotes\n",
    "world = \"world\"   # or double quotes; it does not matter\n",
    "print(hello, len(hello))\n",
    "\n",
    "# string concatenation\n",
    "hi = hello + ' ' + world\n",
    "print(hi)\n",
    "\n",
    "#string formatting\n",
    "\n",
    "ans = 21\n",
    "answer = 'the answer to this question is {}'.format(ans)\n",
    "print(answer)"
   ]
  },
  {
   "cell_type": "markdown",
   "id": "accepting-decimal",
   "metadata": {},
   "source": [
    "#### Arithmetic Operations"
   ]
  },
  {
   "cell_type": "code",
   "execution_count": 25,
   "id": "circular-raleigh",
   "metadata": {},
   "outputs": [
    {
     "name": "stdout",
     "output_type": "stream",
     "text": [
      "x+3 is 6\n",
      "x-15 is -12\n",
      "x*2 is 6\n",
      "x/2 is 1.5\n",
      "x//2 (floor division) is 1\n",
      "x mod 2 (remainder) is 1\n",
      "x cubed is 27\n",
      "x = x+1 is 4\n",
      "2*(x+1) is, 8\n"
     ]
    }
   ],
   "source": [
    "#Addition, subtraction, multiplication, exponentiation\n",
    "print('x+3 is', x + 3)\n",
    "print('x-15 is', x - 15)\n",
    "print('x*2 is',x * 2)\n",
    "print('x/2 is', x/2)\n",
    "print('x//2 (floor division) is', x//2)\n",
    "print('x mod 2 (remainder) is', x%2)\n",
    "print('x cubed is', x ** 3) #Note ** is used for exponentiation, not ^\n",
    "x += 1 #This is a shorthand for x = x+1\n",
    "print('x = x+1 is', x)\n",
    "x *= 2 #This is a shorthand for x = x*2\n",
    "print('2*(x+1) is,',x)"
   ]
  },
  {
   "cell_type": "markdown",
   "id": "amended-breakdown",
   "metadata": {},
   "source": [
    "## Containers and native data structures of python\n",
    "#### Lists, tuples, dictionaries, and sets\n",
    "\n",
    "* __Lists:__ Ordered mutable collection of heterogeneous python objects. Could contain a combination of ints, strings, floats, etc which can be modified (mutable).\n",
    "\n",
    "* __Tuples:__ Tuples are the similar to lists, however, tuples cannot be changed once declared (immutable).\n",
    "\n",
    "* __Dictionaries:__ A dictionary stores (key, value) pairs\n",
    "\n",
    "* __Sets:__ A set is an unordered collection of distinct elements"
   ]
  },
  {
   "cell_type": "markdown",
   "id": "comparative-contemporary",
   "metadata": {},
   "source": [
    "#### Examples : Some useful operations performed on Lists"
   ]
  },
  {
   "cell_type": "code",
   "execution_count": 27,
   "id": "independent-terrorism",
   "metadata": {},
   "outputs": [
    {
     "name": "stdout",
     "output_type": "stream",
     "text": [
      "[1, 'a', 'string', 3]\n",
      "[1, 'a', 'string', 3, 6]\n",
      "[1, 'a', 'string', 3]\n",
      "a\n",
      "3\n",
      "List Indexing\n",
      "[0, 1, 2, 3, 4]\n",
      "[2, 3]\n",
      "[2, 3, 4]\n",
      "[0, 1]\n",
      "[0, 1, 2, 3, 4]\n",
      "[0, 1, 2, 3]\n",
      "[0, 1, 8, 9, 4]\n"
     ]
    }
   ],
   "source": [
    "L = [1, \"a\" , \"string\" , 1+2] \n",
    "print(L)\n",
    "L.append(6)                     #Add an element to a list\n",
    "print(L)\n",
    "L.pop()                         # Remove and return the last element of the list\n",
    "print(L)\n",
    "print(L[1])\n",
    "print(L[-1])                    # Negative indices count from the end of the list; prints \"2\"\n",
    "\n",
    "print(\"List Indexing\")\n",
    "\n",
    "nums = list(range(5))           # range is a built-in function that creates a list of integers\n",
    "print(nums)\n",
    "print(nums[2:4])                # Get a slice from index 2 to 4 (exclusive)\n",
    "print(nums[2:])                 # Get a slice from index 2 to the end\n",
    "print(nums[:2])                 # Get a slice from the start to index 2 (exclusive)\n",
    "print(nums[:])                  # Get a slice of the whole list\n",
    "print(nums[:-1])                # Slice indices can be negative\n",
    "nums[2:4] = [8, 9]              # Assign a new sublist to a slice\n",
    "print(nums)"
   ]
  },
  {
   "cell_type": "markdown",
   "id": "cardiovascular-editor",
   "metadata": {},
   "source": [
    "#### List comprehensions\n",
    "\n",
    "List comprehensions are a convienant and'Pythonic' way to create lists based on specific criteria. They are often seen in production code, so we mention them here"
   ]
  },
  {
   "cell_type": "code",
   "execution_count": 32,
   "id": "lesser-dollar",
   "metadata": {},
   "outputs": [
    {
     "name": "stdout",
     "output_type": "stream",
     "text": [
      "x**2 is [0, 1, 4, 9, 16]\n",
      "[ 0  1  2  3  4  5  6  7  8  9 10 11 12 13 14 15 16 17 18 19 20]\n",
      "The evens are [0, 2, 4, 6, 8, 10, 12, 14, 16, 18, 20]\n"
     ]
    }
   ],
   "source": [
    "#Simple list comprehension\n",
    "import numpy as np\n",
    "\n",
    "\n",
    "nums = [0, 1, 2, 3, 4]\n",
    "squares = [x ** 2 for x in nums]\n",
    "print('x**2 is', squares)\n",
    "\n",
    "\n",
    "#More complicated example with a conditional. Returns the even integers from an array.\n",
    "integers = np.arange(0,21,1)\n",
    "print(integers)\n",
    "evens = [val for val in integers if val%2==0]\n",
    "print('The evens are', evens)"
   ]
  },
  {
   "cell_type": "markdown",
   "id": "saved-nowhere",
   "metadata": {},
   "source": [
    "#### Tuple\n",
    "\n",
    "A tuple is an (immutable) ordered list of values. A tuple is in many ways similar to a list; one of the most important differences is that tuples can be used as keys in dictionaries and as elements of sets, while lists cannot. Here is a trivial example:"
   ]
  },
  {
   "cell_type": "code",
   "execution_count": 33,
   "id": "cross-aberdeen",
   "metadata": {},
   "outputs": [
    {
     "name": "stdout",
     "output_type": "stream",
     "text": [
      "<class 'tuple'>\n",
      "(1, 'a', 'string', 3)\n",
      "a\n"
     ]
    },
    {
     "ename": "TypeError",
     "evalue": "'tuple' object does not support item assignment",
     "output_type": "error",
     "traceback": [
      "\u001b[1;31m---------------------------------------------------------------------------\u001b[0m",
      "\u001b[1;31mTypeError\u001b[0m                                 Traceback (most recent call last)",
      "\u001b[1;32m<ipython-input-33-63c8596c51ad>\u001b[0m in \u001b[0;36m<module>\u001b[1;34m\u001b[0m\n\u001b[0;32m      5\u001b[0m \u001b[1;33m\u001b[0m\u001b[0m\n\u001b[0;32m      6\u001b[0m \u001b[1;31m#Tuples are immutable, the following code will break.\u001b[0m\u001b[1;33m\u001b[0m\u001b[1;33m\u001b[0m\u001b[1;33m\u001b[0m\u001b[0m\n\u001b[1;32m----> 7\u001b[1;33m \u001b[0mtup\u001b[0m\u001b[1;33m[\u001b[0m\u001b[1;36m3\u001b[0m\u001b[1;33m]\u001b[0m\u001b[1;33m=\u001b[0m\u001b[1;36m5\u001b[0m\u001b[1;33m\u001b[0m\u001b[1;33m\u001b[0m\u001b[0m\n\u001b[0m",
      "\u001b[1;31mTypeError\u001b[0m: 'tuple' object does not support item assignment"
     ]
    }
   ],
   "source": [
    "tup = (1, \"a\", \"string\", 1+2) \n",
    "print(type(tup))\n",
    "print(tup )\n",
    "print(tup[1])\n",
    "\n",
    "#Tuples are immutable, the following code will break.\n",
    "tup[3]=5"
   ]
  },
  {
   "cell_type": "markdown",
   "id": "right-worthy",
   "metadata": {},
   "source": [
    "#### Dictionaries\n",
    "Dictionaries are like lists but they associate a 'key' to a 'value' in pairs"
   ]
  },
  {
   "cell_type": "code",
   "execution_count": 34,
   "id": "engaged-recruitment",
   "metadata": {},
   "outputs": [
    {
     "name": "stdout",
     "output_type": "stream",
     "text": [
      "cute\n",
      "True\n",
      "wet\n",
      "\n",
      "Access dictionary keys and values\n",
      "---------------------------------\n",
      "A person has 2 legs\n",
      "A cat has 4 legs\n",
      "A spider has 8 legs\n",
      "\n",
      "Dictionary comprehensions\n",
      "\n",
      "{0: 0, 2: 4, 4: 16}\n"
     ]
    }
   ],
   "source": [
    "d = {'cat': 'cute', 'dog': 'furry'} #Keys are cat, dog. Values are cute, furry\n",
    "print(d['cat'])\n",
    "print('cat' in d)               # Check if a dictionary has a given key\n",
    "d['fish'] = 'wet'               # Set an entry in a dictionary\n",
    "print(d['fish'])\n",
    "\n",
    "del d['fish']                   # Remove an element from a dictionary\n",
    "\n",
    "print()\n",
    "print(\"Access dictionary keys and values\")\n",
    "print(\"---------------------------------\")\n",
    "\n",
    "d = {'person': 2, 'cat': 4, 'spider': 8}\n",
    "for animal, legs in d.items():\n",
    "    print('A %s has %d legs' % (animal, legs))\n",
    "\n",
    "print()\n",
    "print(\"Dictionary comprehensions\")\n",
    "print()\n",
    "\n",
    "nums = [0, 1, 2, 3, 4]\n",
    "even_num_to_square = {x: x ** 2 for x in nums if x % 2 == 0}\n",
    "print(even_num_to_square)\n"
   ]
  },
  {
   "cell_type": "markdown",
   "id": "virgin-administration",
   "metadata": {},
   "source": [
    "#### Sets \n",
    "Sets are unordered collections of unique elements"
   ]
  },
  {
   "cell_type": "code",
   "execution_count": 35,
   "id": "relative-arthritis",
   "metadata": {},
   "outputs": [
    {
     "name": "stdout",
     "output_type": "stream",
     "text": [
      "True\n",
      "False\n",
      "True\n",
      "3\n",
      "3\n",
      "2\n"
     ]
    }
   ],
   "source": [
    "animals = {'cat', 'dog'}\n",
    "print('cat' in animals)         # Check if an element is in a set\n",
    "print('fish' in animals)\n",
    "\n",
    "animals.add('fish')             # Add an element to a set\n",
    "print('fish' in animals)\n",
    "\n",
    "print(len(animals))             # Number of elements in a set\n",
    "animals.add('cat')              # Adding an element that is already in the set does nothing\n",
    "print(len(animals))\n",
    "\n",
    "\n",
    "animals.remove('cat')           # Remove an element from a set\n",
    "print(len(animals))"
   ]
  },
  {
   "cell_type": "markdown",
   "id": "interesting-market",
   "metadata": {},
   "source": [
    "## Introducing Numpy Arrays\n",
    "\n",
    "#### Numpy\n",
    "Numpy is the core library for scientific computing in Python. It provides a high-performance multidimensional array object, and tools for working with these arrays. If you are already familiar with MATLAB, you might find this [tutorial](http://wiki.scipy.org/NumPy_for_Matlab_Users) useful to get started with Numpy.\n",
    "\n",
    "To use Numpy, we first need to import the `numpy` package:\n",
    "\n",
    "<code>import numpy as np\n",
    "</code>\n",
    "\n",
    "#### Arrays\n",
    "Arrays are *ordered* collections of values (ints, floats, strings) typically all of the same type (though not necessarily) which are very useful for scientific computations. For example, arrays can be used to store time series data, or multidimensional data such as the space-time values of displacement of a seismic wavefield.\n",
    "\n",
    "Arrays have associated indices which refer to each *ordered* element.\n",
    "\n",
    "* Note that in Python, indexing starts at 0, not 1\n",
    "\n",
    "__We will now load in our first library, *NumPy* which is used when dealing with arrays in Python__"
   ]
  },
  {
   "cell_type": "code",
   "execution_count": 2,
   "id": "opposite-cloud",
   "metadata": {},
   "outputs": [
    {
     "name": "stdout",
     "output_type": "stream",
     "text": [
      "[ 0  1  2  3  4  5  6  7  8  9 10]\n",
      "Length of x_array is: 11\n"
     ]
    }
   ],
   "source": [
    "import numpy as np  # n-dimensional arrys\n",
    "\n",
    "x_array = np.arange(0, 11, 1)\n",
    "# We have just created an array of integers from [0 to 11) (the value 11 is excluded).  \n",
    "#The 3rd argument of np.arange() is the spacing between each value, set to 1 here.\n",
    "print(x_array)\n",
    "print('Length of x_array is: {}'.format(len(x_array)))"
   ]
  },
  {
   "cell_type": "markdown",
   "id": "enabling-airfare",
   "metadata": {},
   "source": [
    "#### Array indexing\n",
    "\n",
    "We can use the indices to retrieve specific elements of the array"
   ]
  },
  {
   "cell_type": "code",
   "execution_count": 3,
   "id": "consecutive-migration",
   "metadata": {},
   "outputs": [
    {
     "name": "stdout",
     "output_type": "stream",
     "text": [
      "The element at index 3 is 3\n",
      "The last element is 10\n",
      "Elements 3 to 5 are [3 4]\n",
      "Every element is [ 0  1  2  3  4  5  6  7  8  9 10]\n"
     ]
    }
   ],
   "source": [
    "# If we wanted to grab the value found within the 3rd index (again, indexing starts at zero), we do the following\n",
    "x_array_3rd_idx = x_array[3]\n",
    "print('The element at index 3 is', x_array_3rd_idx)\n",
    "\n",
    "#Negative indexing: We can also start at the end.\n",
    "print('The last element is', x_array[-1])\n",
    "\n",
    "#Slicing: Get several elements\n",
    "print('Elements 3 to 5 are', x_array[3:5])\n",
    "\n",
    "#Get every element (particularly useful in higher dimensions)\n",
    "print('Every element is', x_array[:])"
   ]
  },
  {
   "cell_type": "markdown",
   "id": "based-anatomy",
   "metadata": {},
   "source": [
    "#### Insertion\n",
    "\n",
    "Sometimes we want to manipulate values at a praticular location"
   ]
  },
  {
   "cell_type": "code",
   "execution_count": 4,
   "id": "north-baseline",
   "metadata": {},
   "outputs": [
    {
     "name": "stdout",
     "output_type": "stream",
     "text": [
      "The array is now:  [ 0  1  2 11  4  5  6  7  8  9 10]\n"
     ]
    }
   ],
   "source": [
    "#Change the third element to 11\n",
    "\n",
    "x_array[3] = 11\n",
    "print('The array is now: ', x_array)"
   ]
  },
  {
   "cell_type": "markdown",
   "id": "portuguese-handling",
   "metadata": {},
   "source": [
    "#### Multi-dimensional Arrays and Indexing\n",
    "\n",
    "Often we deal with data that are high dimensional. Numpy support N-dimensional arrays."
   ]
  },
  {
   "cell_type": "code",
   "execution_count": 4,
   "id": "exempt-basket",
   "metadata": {},
   "outputs": [
    {
     "name": "stdout",
     "output_type": "stream",
     "text": [
      "The array is: \n",
      " [[0. 0. 0. ... 0. 0. 0.]\n",
      " [0. 0. 0. ... 0. 0. 0.]\n",
      " [0. 0. 0. ... 0. 0. 0.]\n",
      " ...\n",
      " [0. 0. 0. ... 0. 0. 0.]\n",
      " [0. 0. 0. ... 0. 0. 0.]\n",
      " [0. 0. 0. ... 0. 0. 0.]] \n",
      "\n",
      "Element [0, 1] is  1.0 \n",
      "\n",
      "The first row is: [0. 1. 0. 0. 0. 0. 0. 0. 0. 0. 0. 0. 0. 0. 0. 0. 0. 0. 0. 0. 0. 0. 0. 0.\n",
      " 0. 0. 0. 0. 0. 0. 0. 0. 0. 0. 0. 0. 0. 0. 0. 0. 0. 0. 0. 0. 0. 0. 0. 0.\n",
      " 0. 0. 0. 0. 0. 0. 0. 0. 0. 0. 0. 0. 0. 0. 0. 0. 0. 0. 0. 0. 0. 0. 0. 0.\n",
      " 0. 0. 0. 0. 0. 0. 0. 0. 0. 0. 0. 0. 0. 0. 0. 0. 0. 0. 0. 0. 0. 0. 0. 0.\n",
      " 0. 0. 0. 0.] \n",
      "\n",
      "The first row is: [1. 0. 0. 0. 0. 0. 0. 0. 0. 0. 0. 0. 0. 0. 0. 0. 0. 0. 0. 0. 0. 0. 0. 0.\n",
      " 0. 0. 0. 0. 0. 0. 0. 0. 0. 0. 0. 0. 0. 0. 0. 0. 0. 0. 0. 0. 0. 0. 0. 0.\n",
      " 0. 0. 0. 0. 0. 0. 0. 0. 0. 0. 0. 0. 0. 0. 0. 0. 0. 0. 0. 0. 0. 0. 0. 0.\n",
      " 0. 0. 0. 0. 0. 0. 0. 0. 0. 0. 0. 0. 0. 0. 0. 0. 0. 0. 0. 0. 0. 0. 0. 0.\n",
      " 0. 0. 0. 0.] \n",
      "\n"
     ]
    }
   ],
   "source": [
    "x_fill_array = np.zeros((100, 100))\n",
    "# Here I have just created a 2D matrix of shape 100 x 100 full of zeros... np.ones((100, 100)) does the same, but\n",
    "# fills the matrix full of ones.\n",
    "print('The array is: \\n', x_fill_array, '\\n')\n",
    "\n",
    "#2D array insertion\n",
    "x_fill_array[0,1] = 1\n",
    "\n",
    "#Array indexing\n",
    "print('Element [0, 1] is ', x_fill_array[0, 1], '\\n')\n",
    "\n",
    "#Get every element of the first row\n",
    "print('The first row is:', x_fill_array[:,0], '\\n')\n",
    "print('The first row is:', x_fill_array[:2,1], '\\n')"
   ]
  },
  {
   "cell_type": "code",
   "execution_count": 22,
   "id": "mobile-juice",
   "metadata": {},
   "outputs": [
    {
     "name": "stdout",
     "output_type": "stream",
     "text": [
      "The array is: \n",
      " [[0. 0. 0. 0. 0. 0. 0. 0. 0. 0.]] \n",
      "\n",
      "The first row is: [[1. 0. 1. 0. 0. 0. 0. 0. 0. 0.]] \n",
      "\n"
     ]
    }
   ],
   "source": [
    "x_new_array = np.zeros((1,10))\n",
    "#print('The array is: \\n', x_new_array, '\\n')\n",
    "#x_new_array[0,:] = 1\n",
    "print('The array is: \\n', x_new_array, '\\n')\n",
    "x_new_array[:,0:4:2] = 1\n",
    "raju = x_new_array\n",
    "print('The first row is:', raju, '\\n')"
   ]
  },
  {
   "cell_type": "markdown",
   "id": "hybrid-august",
   "metadata": {},
   "source": [
    "#### Creating other types of arrays"
   ]
  },
  {
   "cell_type": "code",
   "execution_count": 6,
   "id": "experimental-mission",
   "metadata": {},
   "outputs": [
    {
     "name": "stdout",
     "output_type": "stream",
     "text": [
      "Our manually created array is:  [ 4.  1.  0.  0. 22.]\n",
      "\n",
      "The array, converted to integer type is [ 4  1  0  0 22]\n",
      "\n",
      "2 x 2 array with 7s \n",
      " [[7 7]\n",
      " [7 7]]\n",
      "\n",
      "Identity Array \n",
      " [[1. 0.]\n",
      " [0. 1.]]\n",
      "\n",
      "Random Array: \n",
      " [[0.52770318 0.17232421]\n",
      " [0.61150025 0.5538215 ]]\n",
      "\n"
     ]
    }
   ],
   "source": [
    "# Now we can make our own array manually...\n",
    "x1 = 4\n",
    "x2 = 1\n",
    "x3 = x_array[0]\n",
    "x4 = x_fill_array[41, 97]\n",
    "x5 = 22\n",
    "manual_array = np.array([x1, x2, x3, x4, x5])\n",
    "print('Our manually created array is: ', manual_array)\n",
    "#Note that to create our array we used brackets ([]). What these brackets mean will be explained later.\n",
    "print()\n",
    "\n",
    "# You can add an extra parameter to specify what type of number you want. So let's make them integers\n",
    "manual_array_int = np.array(manual_array, dtype=int)\n",
    "print('The array, converted to integer type is', manual_array_int)\n",
    "print()\n",
    "\n",
    "# If you want to create a 2x2 array filled with 7's in each component, you do the following\n",
    "c = np.full((2, 2), 7)\n",
    "print('2 x 2 array with 7s \\n', c)\n",
    "print()\n",
    "\n",
    "\n",
    "# If you want to create a 2x2 identity array filled, you do the following\n",
    "d = np.eye(2)\n",
    "print('Identity Array \\n', d)\n",
    "print()\n",
    "\n",
    "# If you want to create a 2x2 array filled with random values in each component, you do the following\n",
    "e = np.random.random((2, 2))\n",
    "print('Random Array: \\n', e)\n",
    "print()"
   ]
  },
  {
   "cell_type": "markdown",
   "id": "parental-compilation",
   "metadata": {},
   "source": [
    "#### Array arithmetic\n",
    "\n",
    "By default array math operates elementwise. In other words, all base arithmetic operations preserve the shape of the array, unlike matrix multiplication, dot products, etc."
   ]
  },
  {
   "cell_type": "code",
   "execution_count": 8,
   "id": "furnished-elizabeth",
   "metadata": {},
   "outputs": [
    {
     "name": "stdout",
     "output_type": "stream",
     "text": [
      "\n",
      "##########################################################\n",
      "\n",
      "Elementwise sum; both produce the same array\n",
      "[[ 6.  8.]\n",
      " [10. 12.]]\n",
      "[[ 6.  8.]\n",
      " [10. 12.]]\n",
      "\n",
      "##########################################################\n",
      "\n",
      "Elementwise difference; both produce the same array\n",
      "[[-4. -4.]\n",
      " [-4. -4.]]\n",
      "[[-4. -4.]\n",
      " [-4. -4.]]\n",
      "\n",
      "##########################################################\n",
      "\n",
      "Elementwise product; both produce the same array\n",
      "[[ 5. 12.]\n",
      " [21. 32.]]\n",
      "[[ 5. 12.]\n",
      " [21. 32.]]\n",
      "\n",
      "##########################################################\n",
      "\n",
      "Elementwise division; both produce the same array\n",
      "[[0.2        0.33333333]\n",
      " [0.42857143 0.5       ]]\n",
      "[[0.2        0.33333333]\n",
      " [0.42857143 0.5       ]]\n",
      "Floor division (Divide and round down to nearest integer)\n",
      "[[0. 0.]\n",
      " [0. 0.]]\n",
      "\n",
      "##########################################################\n",
      "\n",
      "Elementwise square root; produces the same array\n",
      "[[1.         1.41421356]\n",
      " [1.73205081 2.        ]]\n",
      "\n",
      "##########################################################\n",
      "\n",
      "Inner product of vectors\n",
      "219\n",
      "219\n",
      "\n",
      "##########################################################\n",
      "\n",
      "Matrix-vector product; both produce the same 1 dimensional array\n",
      "[29 67]\n",
      "[29 67]\n",
      "\n",
      "##########################################################\n",
      "\n",
      "Matrix * matrix product; both produce the same 2 dimensional array\n",
      "[[19 22]\n",
      " [43 50]]\n",
      "[[19 22]\n",
      " [43 50]]\n"
     ]
    }
   ],
   "source": [
    "x = np.array([[1, 2], [3, 4]], dtype=np.float64)\n",
    "y = np.array([[5, 6], [7, 8]], dtype=np.float64)\n",
    "\n",
    "print()\n",
    "print(\"##########################################################\")\n",
    "print()\n",
    "print(\"Elementwise sum; both produce the same array\")\n",
    "print(x + y)\n",
    "print(np.add(x, y))\n",
    "\n",
    "print()\n",
    "print(\"##########################################################\")\n",
    "print()\n",
    "print(\"Elementwise difference; both produce the same array\")\n",
    "print(x - y)\n",
    "print(np.subtract(x, y))\n",
    "\n",
    "print()\n",
    "print(\"##########################################################\")\n",
    "print()\n",
    "print(\"Elementwise product; both produce the same array\")\n",
    "print(x * y)\n",
    "print(np.multiply(x, y))\n",
    "\n",
    "print()\n",
    "print(\"##########################################################\")\n",
    "print()\n",
    "print(\"Elementwise division; both produce the same array\")\n",
    "print(x / y)\n",
    "print(np.divide(x, y))\n",
    "print(\"Floor division (Divide and round down to nearest integer)\")\n",
    "print(x // y)\n",
    "\n",
    "print()\n",
    "print(\"##########################################################\")\n",
    "print()\n",
    "print(\"Elementwise square root; produces the same array\")\n",
    "print(np.sqrt(x))\n",
    "\n",
    "print()\n",
    "print(\"##########################################################\")\n",
    "print()\n",
    "x = np.array([[1, 2], [3, 4]])\n",
    "y = np.array([[5, 6], [7, 8]])\n",
    "v = np.array([9, 10])\n",
    "w = np.array([11, 12])\n",
    "print(\"Inner product of vectors\")\n",
    "print(v.dot(w))\n",
    "print(np.dot(v, w))\n",
    "\n",
    "print()\n",
    "print(\"##########################################################\")\n",
    "print()\n",
    "print(\"Matrix-vector product; both produce the same 1 dimensional array\")\n",
    "print(x.dot(v))\n",
    "print(np.dot(x, v))\n",
    "\n",
    "print()\n",
    "print(\"##########################################################\")\n",
    "print()\n",
    "print(\"Matrix * matrix product; both produce the same 2 dimensional array\")\n",
    "print(x.dot(y))\n",
    "print(np.dot(x, y))"
   ]
  },
  {
   "cell_type": "markdown",
   "id": "prepared-economics",
   "metadata": {},
   "source": [
    "## Conditionals and Control Flow\n",
    "\n",
    "Using Booleans, we can control the flow of our program so that in the case where a criteria is `True` the program executes one piece of code and if the criteria is `False` executes a different piece of code."
   ]
  },
  {
   "cell_type": "code",
   "execution_count": 9,
   "id": "smaller-insulation",
   "metadata": {},
   "outputs": [
    {
     "name": "stdout",
     "output_type": "stream",
     "text": [
      "Condition met, now let's evaluate the next if statement...\n",
      "Condition satisfied on second try\n"
     ]
    }
   ],
   "source": [
    "x_bool = True\n",
    "\n",
    "x = 3\n",
    "y = 3\n",
    "\n",
    "if x_bool:\n",
    "    print(\"Condition met, now let's evaluate the next if statement...\")\n",
    "\n",
    "if (x <= 1) & (x == y):\n",
    "    print('Condition satisfied on first try')\n",
    "elif (x <= 5) & (x == y):\n",
    "    print('Condition satisfied on second try')\n",
    "else:\n",
    "    print('Condition not statified')"
   ]
  },
  {
   "cell_type": "markdown",
   "id": "outdoor-jenny",
   "metadata": {},
   "source": [
    "#### Now we will get into loops - first we will start with the _for_ loop\n",
    "For loops allow you to iterate over large sets of data, e.g. a long array of time series data. \n",
    "\n",
    "Example 1"
   ]
  },
  {
   "cell_type": "code",
   "execution_count": 10,
   "id": "appropriate-partner",
   "metadata": {},
   "outputs": [
    {
     "name": "stdout",
     "output_type": "stream",
     "text": [
      "Length of x_array_iter: 11\n",
      " Iteration 0\n",
      " Iteration 1\n",
      " Iteration 2\n",
      " Iteration 3\n",
      " Iteration 4\n",
      " Iteration 5\n",
      " Iteration 6\n",
      " Iteration 7\n",
      " Iteration 8\n",
      " Iteration 9\n",
      " Iteration 10\n"
     ]
    }
   ],
   "source": [
    "x_array_iter = np.arange(0, len(x_array), 1)\n",
    "\n",
    "print('Length of x_array_iter:', len(x_array_iter))\n",
    "\n",
    "#Loop over elements in \n",
    "for i in range(0, len(x_array_iter)):\n",
    "    print(' Iteration', str(i))"
   ]
  },
  {
   "cell_type": "markdown",
   "id": "infectious-amber",
   "metadata": {},
   "source": [
    "#### Example 2 - Loops with a conditional"
   ]
  },
  {
   "cell_type": "code",
   "execution_count": 11,
   "id": "suspended-nicholas",
   "metadata": {},
   "outputs": [
    {
     "name": "stdout",
     "output_type": "stream",
     "text": [
      "0th Iteration\n",
      "1st Iteration\n",
      "2nd Iteration\n",
      "3rd Iteration\n",
      "4th Iteration\n",
      "5th Iteration\n",
      "6th Iteration\n",
      "7th Iteration\n",
      "8th Iteration\n"
     ]
    }
   ],
   "source": [
    "for i in range(0, len(x_array_iter)):\n",
    "    if (x_array_iter[i] == 0) or (x_array_iter[i] == 4) or (x_array_iter[i] == 5) or (x_array_iter[i] == 6)\\\n",
    "    or (x_array_iter[i] == 7) or (x_array_iter[i] == 8):\n",
    "        print(str(i) + 'th Iteration')\n",
    "    elif (x_array_iter[i] == 1):\n",
    "        print(str(i) + 'st Iteration')\n",
    "    elif (x_array_iter[i] == 2):\n",
    "        print(str(i) + 'nd Iteration')\n",
    "    elif (x_array_iter[i] == 3):\n",
    "        print(str(i) + 'rd Iteration')"
   ]
  },
  {
   "cell_type": "markdown",
   "id": "incoming-wright",
   "metadata": {},
   "source": [
    "**Comments on the above for loop examples:**\n",
    "* Use len() to get the length of the array\n",
    "\n",
    "* Use range() to create an iterator with length of the argument.\n",
    "\n",
    "* For example, x_array_iter is of length 9, so we use range(0, len(x_array_iter)) to begin iterating at index of 0,"
   ]
  },
  {
   "cell_type": "markdown",
   "id": "substantial-robinson",
   "metadata": {},
   "source": [
    "#### While loops\n",
    "While loops continue to execute until a condition evaluates to `True`. These can interate infinetly if you are not careful. "
   ]
  },
  {
   "cell_type": "code",
   "execution_count": 12,
   "id": "bibliographic-madonna",
   "metadata": {},
   "outputs": [
    {
     "name": "stdout",
     "output_type": "stream",
     "text": [
      "0 Iteration\n",
      "1 Iteration\n",
      "2 Iteration\n",
      "3 Iteration\n",
      "4 Iteration\n",
      "5 Iteration\n",
      "6 Iteration\n",
      "7 Iteration\n",
      "8 Iteration\n",
      "9 Iteration\n",
      "10 Iteration\n"
     ]
    }
   ],
   "source": [
    "i = 0\n",
    "\n",
    "while i < len(x_array_iter):\n",
    "    print(str(i) + ' Iteration')\n",
    "    i += 1 #Explicitly increment i so that the loop does not go on forever"
   ]
  },
  {
   "cell_type": "markdown",
   "id": "excellent-backing",
   "metadata": {},
   "source": [
    "Similar to the previous example with a for loop, but now we have to explicitly increment `i`"
   ]
  },
  {
   "cell_type": "code",
   "execution_count": 13,
   "id": "international-manner",
   "metadata": {},
   "outputs": [
    {
     "name": "stdout",
     "output_type": "stream",
     "text": [
      "0th Iteration\n",
      "1st Iteration\n",
      "2nd Iteration\n",
      "3rd Iteration\n",
      "4th Iteration\n",
      "5th Iteration\n",
      "6th Iteration\n",
      "7th Iteration\n",
      "8th Iteration\n"
     ]
    }
   ],
   "source": [
    "i = 0\n",
    "\n",
    "while i < len(x_array_iter):\n",
    "    if (x_array_iter[i] == 0) or (x_array_iter[i] == 4) or (x_array_iter[i] == 5) or (x_array_iter[i] == 6)\\\n",
    "    or (x_array_iter[i] == 7) or (x_array_iter[i] == 8):\n",
    "        print(str(i) + 'th Iteration')\n",
    "    elif (x_array_iter[i] == 1):\n",
    "        print(str(i) + 'st Iteration')\n",
    "    elif (x_array_iter[i] == 2):\n",
    "        print(str(i) + 'nd Iteration')\n",
    "    elif (x_array_iter[i] == 3):\n",
    "        print(str(i) + 'rd Iteration')\n",
    "    i += 1 #Explicitly increment i so that the loop does not go on forever"
   ]
  },
  {
   "cell_type": "markdown",
   "id": "cardiovascular-boost",
   "metadata": {},
   "source": [
    "\n",
    "### Functions\n",
    "\n",
    "Often we want to apply the same operation to different types of data. For example we might want to get the mean, compute a linear regression, or apply some other complicated formula.\n",
    "\n",
    "* Functions are used to keep your code organized\n",
    "* Functions facilitate the D.R.Y. principle of software development -- Don't Repeat Yourself"
   ]
  },
  {
   "cell_type": "code",
   "execution_count": 11,
   "id": "martial-daughter",
   "metadata": {},
   "outputs": [
    {
     "name": "stdout",
     "output_type": "stream",
     "text": [
      "a is not divisible by b\n",
      "\n",
      "2.0124611797498106\n"
     ]
    }
   ],
   "source": [
    "def a_b_divisibility(a, b=6):\n",
    "    if a % b == 0 : #The percent sign is called the modulo operator\n",
    "        print(\"a is divisible by b\")\n",
    "    else:\n",
    "        print(\"a is not divisible by b\")\n",
    "\n",
    "\n",
    "def compute_x(a, b, c, d):\n",
    "    '''Applies a complicated formula to the supplied parameters.\n",
    "    \n",
    "    param:: a (float)\n",
    "    param:: b (float)\n",
    "    param:: c (float)\n",
    "    param:: d (float)\n",
    "    \n",
    "    Note that I used the triple quotes here to create a 'docstring'\n",
    "    which can be used to communicate the purpose of the function to another user\n",
    "    '''\n",
    "    x = (a**2 * np.sqrt(b) * c) / d\n",
    "    return x\n",
    "\n",
    "# Calling function from above, and giving it a value for unknown parameter 'a' (b is already given a default value of 6)\n",
    "a_b_divisibility(4)\n",
    "print()\n",
    "\n",
    "x = compute_x(3, 5, 2, 20)    # 3, 5, 2, 20 are your function parameters for a, b, c, d, respectively\n",
    "print(x)"
   ]
  },
  {
   "cell_type": "markdown",
   "id": "latter-teddy",
   "metadata": {},
   "source": [
    "## Classes\n",
    "* Classes are the basic structure of *Objected Oriented Programming*\n",
    "* Object oriented programming is a way to encapsulate data into independant *objects*\n",
    "* Large codebases use OOP to keep code organized, robust, and agile (easily modified to meet new customer demands e.g.)\n",
    "\n",
    "For example, you might define a class `Car` which is an abstraction of all the different possible varieties of cars.\n",
    "\n",
    "Each car shares several *attributes* with other cars such as paint color, transmission type, number of doors, engine type, etc.\n",
    "\n",
    "A car can perform many different tasks, (in OOP called methods), such as starting, accelerating, braking, turning, etc.\n",
    "\n",
    "There are many different types of cars, so it is sensible to create a new *instance* of the class for each car. For example one instance of the class `Car` could be\n",
    "\n",
    "`ferarri = Car(color=red, transmission=manual, engine=v8)`\n",
    "\n",
    "Which has the method\n",
    "\n",
    "`ferrari.accelerate()`\n",
    "\n",
    "Another example could be\n",
    "\n",
    "`Prius = Car(color='red', transmission='automatic', engine='hybrid')`"
   ]
  },
  {
   "cell_type": "code",
   "execution_count": 17,
   "id": "promotional-favorite",
   "metadata": {},
   "outputs": [],
   "source": [
    "class Car:\n",
    "    \n",
    "    wheels = 4 #A global parameter which will apply to all instances of the class car.\n",
    "    \n",
    "    def __init__(self, color, transmission, engine, current_velocity=[0,0,0]):\n",
    "        '''\n",
    "        The funtion __init__ initializes the class and its instance attributes. The argument self indicates that the\n",
    "        attributes belong only to a single instance of the class.\n",
    "        '''\n",
    "        self.color=color\n",
    "        self.transmission=transmission\n",
    "        self.engine=engine\n",
    "        self.current_velocity=current_velocity\n",
    "        \n",
    "    def accelerate(self):\n",
    "        '''\n",
    "        This is an overly simplified example which increase the velocity by one in the x direction. \n",
    "        Note that the function doesn't return anything (in c syntax it is a void function) it just updates \n",
    "        the value of an attribute. This is a common practice in OOP.\n",
    "        Again, self indicates that this method belongs to a particular instance of the class (if our Ferrari\n",
    "        accelerates, we don't want our Porsche to accelerate too).\n",
    "        '''\n",
    "        self.current_velocity[0]+=1\n",
    "        print('Current velocity is: ', self.current_velocity)\n",
    "            "
   ]
  },
  {
   "cell_type": "code",
   "execution_count": 18,
   "id": "engaged-playlist",
   "metadata": {},
   "outputs": [
    {
     "name": "stdout",
     "output_type": "stream",
     "text": [
      "The ferarri has 4 wheels\n",
      "The ferarri has a v8 engine\n",
      "Current velocity is:  [1, 0, 0]\n"
     ]
    }
   ],
   "source": [
    "#Instantiate a class Car\n",
    "ferarri = Car(color='red', transmission='manual', engine='v8')\n",
    "\n",
    "print('The ferarri has {} wheels'.format(ferarri.wheels)) #access the global attribute\n",
    "print('The ferarri has a {} engine'.format(ferarri.engine)) #access the instance attribute\n",
    "ferarri.accelerate() #call the accelerate method which updates the velocity attribute."
   ]
  },
  {
   "cell_type": "markdown",
   "id": "flexible-soldier",
   "metadata": {},
   "source": [
    "## Libraries or Modules\n",
    "We've mentioned and loaded a libary, namely *NumPy*, but we never mentioned what a library is. In Python, libraries are called modules, but the terms are often used interchangebly without coinfusion.\n",
    "\n",
    "A library (module) is a collection of code that is written for some routine computing purpose.  A library typically abstracts details of implementation so that you can focus on the task at hand. Let's load one more library that is useful for machine learning called and *matplotlib*. It is used for plotting figures. Later we will use another library called *scipy* which implements scientific computation."
   ]
  },
  {
   "cell_type": "code",
   "execution_count": 19,
   "id": "reduced-banking",
   "metadata": {},
   "outputs": [
    {
     "name": "stderr",
     "output_type": "stream",
     "text": [
      "UsageError: unrecognized arguments: #Outputs plots in jupyter notebook inline\n"
     ]
    }
   ],
   "source": [
    "import matplotlib.pyplot as plt\n",
    "%matplotlib inline #Outputs plots in jupyter notebook inline"
   ]
  },
  {
   "cell_type": "markdown",
   "id": "overall-nutrition",
   "metadata": {},
   "source": [
    "## Loading Data\n",
    "\n",
    "Before plotting our data, we need to load it and clean it. There are many ways to load data in python including a native file i/o system. Here we will use numpy to load into arrays."
   ]
  },
  {
   "cell_type": "code",
   "execution_count": 21,
   "id": "forward-loading",
   "metadata": {},
   "outputs": [
    {
     "name": "stdout",
     "output_type": "stream",
     "text": [
      "[ 0.        0.333333  0.666667  1.        1.333333  1.666667  2.\n",
      "  2.333333  2.666667  3.        3.333333  3.666667  4.        4.333333\n",
      "  4.666667  5.        5.333333  5.666667  6.        6.333333  6.666667\n",
      "  7.        7.333333  7.666667  8.        8.333333  8.666667  9.\n",
      "  9.333333  9.666667 10.      ]\n",
      "\n",
      "\n",
      "[1.785002 1.709786 1.544405 2.110987 1.891046 2.222348 2.449409 2.590088\n",
      " 2.798712      nan 3.113018 3.676901 3.881787 3.43069  3.489369 4.094792\n",
      " 4.398147 3.953393 4.980095 4.304665 4.711533 4.584649 4.897964 5.530772\n",
      " 5.374816 5.431763 5.377225 6.266101 6.61915  6.156268 6.050614]\n"
     ]
    }
   ],
   "source": [
    "#Load the data, note that the results are unpacked into x and y values\n",
    "x, y = np.genfromtxt('./data_lab1.txt', dtype = float, unpack = True) #Edit to the correct path to your data!\n",
    "\n",
    "#Look at the arrays. Printing to the notebook output works for small datasets, but is not practical for large datasets\n",
    "print(x)\n",
    "print('\\n')\n",
    "print(y)"
   ]
  },
  {
   "cell_type": "markdown",
   "id": "sharing-watts",
   "metadata": {},
   "source": [
    "#### Cleaning Data\n",
    "\n",
    "Notice that there is a missing number in the y column! Let's find out where that is and replace it by linear interpolation."
   ]
  },
  {
   "cell_type": "code",
   "execution_count": 22,
   "id": "classical-blood",
   "metadata": {},
   "outputs": [
    {
     "name": "stdout",
     "output_type": "stream",
     "text": [
      "[False False False False False False False False False  True False False\n",
      " False False False False False False False False False False False False\n",
      " False False False False False False False]\n"
     ]
    }
   ],
   "source": [
    "#First, let's figure out where the nan is!\n",
    "\n",
    "#We can use np.isnan. This outputs an array of booleans. Notice that one element is True corresponding to the nan\n",
    "#value\n",
    "\n",
    "print(np.isnan(y))"
   ]
  },
  {
   "cell_type": "code",
   "execution_count": 23,
   "id": "metallic-infection",
   "metadata": {},
   "outputs": [
    {
     "name": "stdout",
     "output_type": "stream",
     "text": [
      "The index is: [9]\n"
     ]
    }
   ],
   "source": [
    "#We need to figure out the index of the nan so that we can replace it.\n",
    "#We can use np.argwhere for this purpose\n",
    "\n",
    "idx = np.argwhere(np.isnan(y))[0]\n",
    "print('The index is: {}'.format(idx))"
   ]
  },
  {
   "cell_type": "code",
   "execution_count": 24,
   "id": "universal-winner",
   "metadata": {},
   "outputs": [
    {
     "name": "stdout",
     "output_type": "stream",
     "text": [
      "[1.785002 1.709786 1.544405 2.110987 1.891046 2.222348 2.449409 2.590088\n",
      " 2.798712 2.955865 3.113018 3.676901 3.881787 3.43069  3.489369 4.094792\n",
      " 4.398147 3.953393 4.980095 4.304665 4.711533 4.584649 4.897964 5.530772\n",
      " 5.374816 5.431763 5.377225 6.266101 6.61915  6.156268 6.050614]\n"
     ]
    }
   ],
   "source": [
    "#Let's replace the nan with the average of the number behind and ahead in the array\n",
    "replace = (y[10]+y[8])/2\n",
    "\n",
    "#Change the 9th element to the replacement\n",
    "y[9] = replace\n",
    "\n",
    "print(y)"
   ]
  },
  {
   "cell_type": "markdown",
   "id": "olympic-mouth",
   "metadata": {},
   "source": [
    "## Plotting Data\n",
    "\n",
    "### Pyplot\n",
    "\n",
    "A quick way to plot is to use pyplot directly. For example:"
   ]
  },
  {
   "cell_type": "code",
   "execution_count": 25,
   "id": "hungry-resident",
   "metadata": {},
   "outputs": [
    {
     "data": {
      "text/plain": [
       "[<matplotlib.lines.Line2D at 0x1f40f479a08>]"
      ]
     },
     "execution_count": 25,
     "metadata": {},
     "output_type": "execute_result"
    },
    {
     "data": {
      "image/png": "[encoded data removed]",
      "text/plain": [
       "<Figure size 432x288 with 1 Axes>"
      ]
     },
     "metadata": {
      "needs_background": "light"
     },
     "output_type": "display_data"
    }
   ],
   "source": [
    "plt.plot(x,y,'k') #'k' indicates the line is the color black."
   ]
  },
  {
   "cell_type": "markdown",
   "id": "pleasant-greensboro",
   "metadata": {},
   "source": [
    "For more control, I recommend using subplots as shown below. Also we don't really know the relationship between the data points, so it is better to use a scatter plot. We'll do just that. "
   ]
  },
  {
   "cell_type": "code",
   "execution_count": 26,
   "id": "metallic-harbor",
   "metadata": {},
   "outputs": [
    {
     "data": {
      "text/plain": [
       "Text(0, 0.5, 'y')"
      ]
     },
     "execution_count": 26,
     "metadata": {},
     "output_type": "execute_result"
    },
    {
     "data": {
      "image/png": "[encoded data removed]",
      "text/plain": [
       "<Figure size 864x432 with 2 Axes>"
      ]
     },
     "metadata": {
      "needs_background": "light"
     },
     "output_type": "display_data"
    }
   ],
   "source": [
    "#Create a figure with 2 subplots which are stored in axs\n",
    "fig, axs = plt.subplots(nrows = 1, ncols = 2, figsize = (12,6))\n",
    "\n",
    "#Notice that we can manipulate the color and marker by passing arguments to scatter\n",
    "\n",
    "#First subplot is modified by calling methods on axs[0]\n",
    "axs[0].scatter(x, y, marker = '*', color = 'k')\n",
    "axs[0].set_title('Scatter Plot Black Stars')\n",
    "axs[0].set_xlabel('x')\n",
    "axs[0].set_ylabel('y')\n",
    "\n",
    "#Second subplot is modified by calling methods on axs[1]\n",
    "axs[1].scatter(x, y, marker = '^', color = 'r')\n",
    "axs[1].set_title('Scatter Plot Red Triangles')\n",
    "axs[1].set_xlabel('x')\n",
    "axs[1].set_ylabel('y')"
   ]
  },
  {
   "cell_type": "markdown",
   "id": "caring-petroleum",
   "metadata": {},
   "source": [
    "#### Data Fitting\n",
    "Let's fit a line to the scattered data and plot it. We'll use a third library scipy to handle the linear regression."
   ]
  },
  {
   "cell_type": "code",
   "execution_count": 27,
   "id": "interesting-calgary",
   "metadata": {},
   "outputs": [
    {
     "data": {
      "text/plain": [
       "Text(0.5, 1.0, 'Slope: 0.49, Intercept 1.51')"
      ]
     },
     "execution_count": 27,
     "metadata": {},
     "output_type": "execute_result"
    },
    {
     "data": {
      "image/png": "[encoded data removed]",
      "text/plain": [
       "<Figure size 432x288 with 1 Axes>"
      ]
     },
     "metadata": {
      "needs_background": "light"
     },
     "output_type": "display_data"
    }
   ],
   "source": [
    "#In the homework we'll use from scipy.optimize import curve_fit\n",
    "from scipy.stats import linregress\n",
    "\n",
    "#Fit a line to the data\n",
    "slope, intercept, r_value, p_value, std_err = linregress(x,y)\n",
    "\n",
    "#Create a figure instance and an axis for plotting\n",
    "fig, ax = plt.subplots()\n",
    "\n",
    "#Plot the line and scatter the data\n",
    "ax.plot(x, slope*x+intercept, color = 'r', label = 'Linear Regression')\n",
    "ax.scatter(x, y, color = 'k', label = 'Data')\n",
    "\n",
    "#Add a legend\n",
    "ax.legend()\n",
    "\n",
    "#Label the axes\n",
    "ax.set_xlabel('x')\n",
    "ax.set_ylabel('y')\n",
    "ax.set_title('Slope: {:.2f}, Intercept {:.2f}'.format(slope, intercept))"
   ]
  },
  {
   "cell_type": "markdown",
   "id": "abroad-liechtenstein",
   "metadata": {},
   "source": [
    "### Matplotlib\n",
    "\n",
    "Matplotlib is a plotting library. In this section give a brief introduction to the `matplotlib.pyplot` module, which provides a plotting system similar to that of MATLAB."
   ]
  },
  {
   "cell_type": "code",
   "execution_count": 28,
   "id": "interim-tennis",
   "metadata": {},
   "outputs": [
    {
     "name": "stderr",
     "output_type": "stream",
     "text": [
      "UsageError: unrecognized arguments: # By running this special iPython command, we will be displaying plots inline:\n"
     ]
    }
   ],
   "source": [
    "import matplotlib.pyplot as plt\n",
    "\n",
    "%matplotlib inline  # By running this special iPython command, we will be displaying plots inline:"
   ]
  },
  {
   "cell_type": "code",
   "execution_count": 29,
   "id": "personal-episode",
   "metadata": {},
   "outputs": [
    {
     "data": {
      "text/plain": [
       "<matplotlib.legend.Legend at 0x1f40f3896c8>"
      ]
     },
     "execution_count": 29,
     "metadata": {},
     "output_type": "execute_result"
    },
    {
     "data": {
      "image/png": "[encoded data removed]",
      "text/plain": [
       "<Figure size 432x288 with 1 Axes>"
      ]
     },
     "metadata": {
      "needs_background": "light"
     },
     "output_type": "display_data"
    }
   ],
   "source": [
    "y_sin = np.sin(x)\n",
    "y_cos = np.cos(x)\n",
    "\n",
    "# Plot the points using matplotlib\n",
    "plt.plot(x, y_sin)\n",
    "plt.plot(x, y_cos)\n",
    "plt.xlabel('x axis label')\n",
    "plt.ylabel('y axis label')\n",
    "plt.title('Sine and Cosine')\n",
    "plt.legend(['Sine', 'Cosine'])"
   ]
  },
  {
   "cell_type": "markdown",
   "id": "beneficial-arizona",
   "metadata": {},
   "source": [
    "#### Subplots\n",
    "\n",
    "You can plot different things in the same figure using the subplot function. Here is an example:"
   ]
  },
  {
   "cell_type": "code",
   "execution_count": 30,
   "id": "unusual-occupation",
   "metadata": {},
   "outputs": [
    {
     "data": {
      "image/png": "[encoded data removed]",
      "text/plain": [
       "<Figure size 432x288 with 2 Axes>"
      ]
     },
     "metadata": {
      "needs_background": "light"
     },
     "output_type": "display_data"
    }
   ],
   "source": [
    "# Compute the x and y coordinates for points on sine and cosine curves\n",
    "x = np.arange(0, 3 * np.pi, 0.1)\n",
    "y_sin = np.sin(x)\n",
    "y_cos = np.cos(x)\n",
    "\n",
    "# Set up a subplot grid that has height 2 and width 1,\n",
    "# and set the first such subplot as active.\n",
    "plt.subplot(2, 1, 1)\n",
    "\n",
    "# Make the first plot\n",
    "plt.plot(x, y_sin)\n",
    "plt.title('Sine')\n",
    "\n",
    "# Set the second subplot as active, and make the second plot.\n",
    "plt.subplot(2, 1, 2)\n",
    "plt.plot(x, y_cos)\n",
    "plt.title('Cosine')\n",
    "\n",
    "# Show the figure.\n",
    "plt.show()"
   ]
  },
  {
   "cell_type": "markdown",
   "id": "scientific-petite",
   "metadata": {},
   "source": [
    "## Pandas (New Library)\n",
    "\n",
    "What is pandas? Pandas is used to work with tabular data (data stored in tables). Data scientists typically query data from a structured database using SQL and process it with other software. Pandas is a convienent 'other software' for data wrangling in python. \n",
    "\n",
    "The basic structure you'll work with is a DataFrame. Crudely speaking, you can think of this as a python excel spreadsheet. You query data, plot data, calculate summary statistics, and more using pandas.\n",
    "\n",
    "Let's learn some basics first. "
   ]
  },
  {
   "cell_type": "code",
   "execution_count": 32,
   "id": "boolean-comedy",
   "metadata": {},
   "outputs": [
    {
     "data": {
      "text/html": [
       "<div>\n",
       "<style scoped>\n",
       "    .dataframe tbody tr th:only-of-type {\n",
       "        vertical-align: middle;\n",
       "    }\n",
       "\n",
       "    .dataframe tbody tr th {\n",
       "        vertical-align: top;\n",
       "    }\n",
       "\n",
       "    .dataframe thead th {\n",
       "        text-align: right;\n",
       "    }\n",
       "</style>\n",
       "<table border=\"1\" class=\"dataframe\">\n",
       "  <thead>\n",
       "    <tr style=\"text-align: right;\">\n",
       "      <th></th>\n",
       "      <th>API</th>\n",
       "      <th>bottom</th>\n",
       "      <th>file_number</th>\n",
       "      <th>fluid_bbl</th>\n",
       "      <th>fluid_bbl_per_ft</th>\n",
       "      <th>fluid_gal</th>\n",
       "      <th>fluid_gal_per_ft</th>\n",
       "      <th>ft_per_stage</th>\n",
       "      <th>lateral_length</th>\n",
       "      <th>max_treat_press</th>\n",
       "      <th>max_treat_rate</th>\n",
       "      <th>propp_lbs</th>\n",
       "      <th>propp_lbs_per_ft</th>\n",
       "      <th>stages</th>\n",
       "      <th>top</th>\n",
       "      <th>treatment_date</th>\n",
       "    </tr>\n",
       "  </thead>\n",
       "  <tbody>\n",
       "    <tr>\n",
       "      <th>0</th>\n",
       "      <td>33061029770000</td>\n",
       "      <td>20171</td>\n",
       "      <td>27710</td>\n",
       "      <td>63941</td>\n",
       "      <td>6</td>\n",
       "      <td>2685522</td>\n",
       "      <td>273</td>\n",
       "      <td>280</td>\n",
       "      <td>9806</td>\n",
       "      <td>8239</td>\n",
       "      <td>46.3</td>\n",
       "      <td>3222497</td>\n",
       "      <td>328</td>\n",
       "      <td>35</td>\n",
       "      <td>10365</td>\n",
       "      <td>3/14/15</td>\n",
       "    </tr>\n",
       "    <tr>\n",
       "      <th>1</th>\n",
       "      <td>33053065160000</td>\n",
       "      <td>20490</td>\n",
       "      <td>30120</td>\n",
       "      <td>55859</td>\n",
       "      <td>6</td>\n",
       "      <td>2346078</td>\n",
       "      <td>260</td>\n",
       "      <td>300</td>\n",
       "      <td>9020</td>\n",
       "      <td>8820</td>\n",
       "      <td>41.4</td>\n",
       "      <td>3360688</td>\n",
       "      <td>372</td>\n",
       "      <td>30</td>\n",
       "      <td>11470</td>\n",
       "      <td>2/27/15</td>\n",
       "    </tr>\n",
       "    <tr>\n",
       "      <th>2</th>\n",
       "      <td>33061032390000</td>\n",
       "      <td>15774</td>\n",
       "      <td>29063</td>\n",
       "      <td>46076</td>\n",
       "      <td>9</td>\n",
       "      <td>1935192</td>\n",
       "      <td>379</td>\n",
       "      <td>221</td>\n",
       "      <td>5102</td>\n",
       "      <td>8982</td>\n",
       "      <td>89.6</td>\n",
       "      <td>1676744</td>\n",
       "      <td>328</td>\n",
       "      <td>23</td>\n",
       "      <td>10672</td>\n",
       "      <td>2/16/15</td>\n",
       "    </tr>\n",
       "    <tr>\n",
       "      <th>3</th>\n",
       "      <td>33025026550000</td>\n",
       "      <td>20688</td>\n",
       "      <td>29220</td>\n",
       "      <td>67183</td>\n",
       "      <td>7</td>\n",
       "      <td>2821686</td>\n",
       "      <td>307</td>\n",
       "      <td>262</td>\n",
       "      <td>9190</td>\n",
       "      <td>8327</td>\n",
       "      <td>44.1</td>\n",
       "      <td>4035990</td>\n",
       "      <td>439</td>\n",
       "      <td>35</td>\n",
       "      <td>11498</td>\n",
       "      <td>2/15/15</td>\n",
       "    </tr>\n",
       "    <tr>\n",
       "      <th>4</th>\n",
       "      <td>33053064110000</td>\n",
       "      <td>21157</td>\n",
       "      <td>29814</td>\n",
       "      <td>59245</td>\n",
       "      <td>2</td>\n",
       "      <td>2488290</td>\n",
       "      <td>124</td>\n",
       "      <td>666</td>\n",
       "      <td>20007</td>\n",
       "      <td>9171</td>\n",
       "      <td>40.6</td>\n",
       "      <td>3522422</td>\n",
       "      <td>176</td>\n",
       "      <td>30</td>\n",
       "      <td>1150</td>\n",
       "      <td>2/15/15</td>\n",
       "    </tr>\n",
       "  </tbody>\n",
       "</table>\n",
       "</div>"
      ],
      "text/plain": [
       "              API  bottom  file_number  fluid_bbl  fluid_bbl_per_ft  \\\n",
       "0  33061029770000   20171        27710      63941                 6   \n",
       "1  33053065160000   20490        30120      55859                 6   \n",
       "2  33061032390000   15774        29063      46076                 9   \n",
       "3  33025026550000   20688        29220      67183                 7   \n",
       "4  33053064110000   21157        29814      59245                 2   \n",
       "\n",
       "   fluid_gal  fluid_gal_per_ft  ft_per_stage  lateral_length  max_treat_press  \\\n",
       "0    2685522               273           280            9806             8239   \n",
       "1    2346078               260           300            9020             8820   \n",
       "2    1935192               379           221            5102             8982   \n",
       "3    2821686               307           262            9190             8327   \n",
       "4    2488290               124           666           20007             9171   \n",
       "\n",
       "   max_treat_rate  propp_lbs  propp_lbs_per_ft  stages    top treatment_date  \n",
       "0            46.3    3222497               328      35  10365        3/14/15  \n",
       "1            41.4    3360688               372      30  11470        2/27/15  \n",
       "2            89.6    1676744               328      23  10672        2/16/15  \n",
       "3            44.1    4035990               439      35  11498        2/15/15  \n",
       "4            40.6    3522422               176      30   1150        2/15/15  "
      ]
     },
     "execution_count": 32,
     "metadata": {},
     "output_type": "execute_result"
    }
   ],
   "source": [
    "import os #operating system. used to interact with and navigate through directories\n",
    "import pandas as pd #edit to the directory that holds your spreadsheet\n",
    "#os.chdir('path/to/your/directory/with/spreadsheet')\n",
    "os.chdir('/Users/sanya/Code-sunny/TA-codes/Python-tutorial')\n",
    "\n",
    "#Read an excel spreadsheet into a pandas dataframe\n",
    "df_completion = pd.read_csv(\"completion.csv\")\n",
    "\n",
    "#Print the first 5 rows\n",
    "df_completion.head()"
   ]
  },
  {
   "cell_type": "code",
   "execution_count": 34,
   "id": "choice-fundamentals",
   "metadata": {},
   "outputs": [
    {
     "name": "stdout",
     "output_type": "stream",
     "text": [
      "API                 0\n",
      "bottom              0\n",
      "file_number         0\n",
      "fluid_bbl           0\n",
      "fluid_bbl_per_ft    0\n",
      "fluid_gal           0\n",
      "fluid_gal_per_ft    0\n",
      "ft_per_stage        0\n",
      "lateral_length      0\n",
      "max_treat_press     0\n",
      "max_treat_rate      0\n",
      "propp_lbs           0\n",
      "propp_lbs_per_ft    0\n",
      "stages              0\n",
      "top                 0\n",
      "treatment_date      0\n",
      "dtype: int64\n"
     ]
    },
    {
     "data": {
      "text/html": [
       "<div>\n",
       "<style scoped>\n",
       "    .dataframe tbody tr th:only-of-type {\n",
       "        vertical-align: middle;\n",
       "    }\n",
       "\n",
       "    .dataframe tbody tr th {\n",
       "        vertical-align: top;\n",
       "    }\n",
       "\n",
       "    .dataframe thead th {\n",
       "        text-align: right;\n",
       "    }\n",
       "</style>\n",
       "<table border=\"1\" class=\"dataframe\">\n",
       "  <thead>\n",
       "    <tr style=\"text-align: right;\">\n",
       "      <th></th>\n",
       "      <th>API</th>\n",
       "      <th>bottom</th>\n",
       "      <th>file_number</th>\n",
       "      <th>fluid_bbl</th>\n",
       "      <th>fluid_bbl_per_ft</th>\n",
       "      <th>fluid_gal</th>\n",
       "      <th>fluid_gal_per_ft</th>\n",
       "      <th>ft_per_stage</th>\n",
       "      <th>lateral_length</th>\n",
       "      <th>max_treat_press</th>\n",
       "      <th>max_treat_rate</th>\n",
       "      <th>propp_lbs</th>\n",
       "      <th>propp_lbs_per_ft</th>\n",
       "      <th>stages</th>\n",
       "      <th>top</th>\n",
       "      <th>treatment_date</th>\n",
       "    </tr>\n",
       "  </thead>\n",
       "  <tbody>\n",
       "    <tr>\n",
       "      <th>0</th>\n",
       "      <td>False</td>\n",
       "      <td>False</td>\n",
       "      <td>False</td>\n",
       "      <td>False</td>\n",
       "      <td>False</td>\n",
       "      <td>False</td>\n",
       "      <td>False</td>\n",
       "      <td>False</td>\n",
       "      <td>False</td>\n",
       "      <td>False</td>\n",
       "      <td>False</td>\n",
       "      <td>False</td>\n",
       "      <td>False</td>\n",
       "      <td>False</td>\n",
       "      <td>False</td>\n",
       "      <td>False</td>\n",
       "    </tr>\n",
       "    <tr>\n",
       "      <th>1</th>\n",
       "      <td>False</td>\n",
       "      <td>False</td>\n",
       "      <td>False</td>\n",
       "      <td>False</td>\n",
       "      <td>False</td>\n",
       "      <td>False</td>\n",
       "      <td>False</td>\n",
       "      <td>False</td>\n",
       "      <td>False</td>\n",
       "      <td>False</td>\n",
       "      <td>False</td>\n",
       "      <td>False</td>\n",
       "      <td>False</td>\n",
       "      <td>False</td>\n",
       "      <td>False</td>\n",
       "      <td>False</td>\n",
       "    </tr>\n",
       "    <tr>\n",
       "      <th>2</th>\n",
       "      <td>False</td>\n",
       "      <td>False</td>\n",
       "      <td>False</td>\n",
       "      <td>False</td>\n",
       "      <td>False</td>\n",
       "      <td>False</td>\n",
       "      <td>False</td>\n",
       "      <td>False</td>\n",
       "      <td>False</td>\n",
       "      <td>False</td>\n",
       "      <td>False</td>\n",
       "      <td>False</td>\n",
       "      <td>False</td>\n",
       "      <td>False</td>\n",
       "      <td>False</td>\n",
       "      <td>False</td>\n",
       "    </tr>\n",
       "    <tr>\n",
       "      <th>3</th>\n",
       "      <td>False</td>\n",
       "      <td>False</td>\n",
       "      <td>False</td>\n",
       "      <td>False</td>\n",
       "      <td>False</td>\n",
       "      <td>False</td>\n",
       "      <td>False</td>\n",
       "      <td>False</td>\n",
       "      <td>False</td>\n",
       "      <td>False</td>\n",
       "      <td>False</td>\n",
       "      <td>False</td>\n",
       "      <td>False</td>\n",
       "      <td>False</td>\n",
       "      <td>False</td>\n",
       "      <td>False</td>\n",
       "    </tr>\n",
       "    <tr>\n",
       "      <th>4</th>\n",
       "      <td>False</td>\n",
       "      <td>False</td>\n",
       "      <td>False</td>\n",
       "      <td>False</td>\n",
       "      <td>False</td>\n",
       "      <td>False</td>\n",
       "      <td>False</td>\n",
       "      <td>False</td>\n",
       "      <td>False</td>\n",
       "      <td>False</td>\n",
       "      <td>False</td>\n",
       "      <td>False</td>\n",
       "      <td>False</td>\n",
       "      <td>False</td>\n",
       "      <td>False</td>\n",
       "      <td>False</td>\n",
       "    </tr>\n",
       "    <tr>\n",
       "      <th>...</th>\n",
       "      <td>...</td>\n",
       "      <td>...</td>\n",
       "      <td>...</td>\n",
       "      <td>...</td>\n",
       "      <td>...</td>\n",
       "      <td>...</td>\n",
       "      <td>...</td>\n",
       "      <td>...</td>\n",
       "      <td>...</td>\n",
       "      <td>...</td>\n",
       "      <td>...</td>\n",
       "      <td>...</td>\n",
       "      <td>...</td>\n",
       "      <td>...</td>\n",
       "      <td>...</td>\n",
       "      <td>...</td>\n",
       "    </tr>\n",
       "    <tr>\n",
       "      <th>9659</th>\n",
       "      <td>False</td>\n",
       "      <td>False</td>\n",
       "      <td>False</td>\n",
       "      <td>False</td>\n",
       "      <td>False</td>\n",
       "      <td>False</td>\n",
       "      <td>False</td>\n",
       "      <td>False</td>\n",
       "      <td>False</td>\n",
       "      <td>False</td>\n",
       "      <td>False</td>\n",
       "      <td>False</td>\n",
       "      <td>False</td>\n",
       "      <td>False</td>\n",
       "      <td>False</td>\n",
       "      <td>False</td>\n",
       "    </tr>\n",
       "    <tr>\n",
       "      <th>9660</th>\n",
       "      <td>False</td>\n",
       "      <td>False</td>\n",
       "      <td>False</td>\n",
       "      <td>False</td>\n",
       "      <td>False</td>\n",
       "      <td>False</td>\n",
       "      <td>False</td>\n",
       "      <td>False</td>\n",
       "      <td>False</td>\n",
       "      <td>False</td>\n",
       "      <td>False</td>\n",
       "      <td>False</td>\n",
       "      <td>False</td>\n",
       "      <td>False</td>\n",
       "      <td>False</td>\n",
       "      <td>False</td>\n",
       "    </tr>\n",
       "    <tr>\n",
       "      <th>9661</th>\n",
       "      <td>False</td>\n",
       "      <td>False</td>\n",
       "      <td>False</td>\n",
       "      <td>False</td>\n",
       "      <td>False</td>\n",
       "      <td>False</td>\n",
       "      <td>False</td>\n",
       "      <td>False</td>\n",
       "      <td>False</td>\n",
       "      <td>False</td>\n",
       "      <td>False</td>\n",
       "      <td>False</td>\n",
       "      <td>False</td>\n",
       "      <td>False</td>\n",
       "      <td>False</td>\n",
       "      <td>False</td>\n",
       "    </tr>\n",
       "    <tr>\n",
       "      <th>9662</th>\n",
       "      <td>False</td>\n",
       "      <td>False</td>\n",
       "      <td>False</td>\n",
       "      <td>False</td>\n",
       "      <td>False</td>\n",
       "      <td>False</td>\n",
       "      <td>False</td>\n",
       "      <td>False</td>\n",
       "      <td>False</td>\n",
       "      <td>False</td>\n",
       "      <td>False</td>\n",
       "      <td>False</td>\n",
       "      <td>False</td>\n",
       "      <td>False</td>\n",
       "      <td>False</td>\n",
       "      <td>False</td>\n",
       "    </tr>\n",
       "    <tr>\n",
       "      <th>9663</th>\n",
       "      <td>False</td>\n",
       "      <td>False</td>\n",
       "      <td>False</td>\n",
       "      <td>False</td>\n",
       "      <td>False</td>\n",
       "      <td>False</td>\n",
       "      <td>False</td>\n",
       "      <td>False</td>\n",
       "      <td>False</td>\n",
       "      <td>False</td>\n",
       "      <td>False</td>\n",
       "      <td>False</td>\n",
       "      <td>False</td>\n",
       "      <td>False</td>\n",
       "      <td>False</td>\n",
       "      <td>False</td>\n",
       "    </tr>\n",
       "  </tbody>\n",
       "</table>\n",
       "<p>9664 rows × 16 columns</p>\n",
       "</div>"
      ],
      "text/plain": [
       "        API  bottom  file_number  fluid_bbl  fluid_bbl_per_ft  fluid_gal  \\\n",
       "0     False   False        False      False             False      False   \n",
       "1     False   False        False      False             False      False   \n",
       "2     False   False        False      False             False      False   \n",
       "3     False   False        False      False             False      False   \n",
       "4     False   False        False      False             False      False   \n",
       "...     ...     ...          ...        ...               ...        ...   \n",
       "9659  False   False        False      False             False      False   \n",
       "9660  False   False        False      False             False      False   \n",
       "9661  False   False        False      False             False      False   \n",
       "9662  False   False        False      False             False      False   \n",
       "9663  False   False        False      False             False      False   \n",
       "\n",
       "      fluid_gal_per_ft  ft_per_stage  lateral_length  max_treat_press  \\\n",
       "0                False         False           False            False   \n",
       "1                False         False           False            False   \n",
       "2                False         False           False            False   \n",
       "3                False         False           False            False   \n",
       "4                False         False           False            False   \n",
       "...                ...           ...             ...              ...   \n",
       "9659             False         False           False            False   \n",
       "9660             False         False           False            False   \n",
       "9661             False         False           False            False   \n",
       "9662             False         False           False            False   \n",
       "9663             False         False           False            False   \n",
       "\n",
       "      max_treat_rate  propp_lbs  propp_lbs_per_ft  stages    top  \\\n",
       "0              False      False             False   False  False   \n",
       "1              False      False             False   False  False   \n",
       "2              False      False             False   False  False   \n",
       "3              False      False             False   False  False   \n",
       "4              False      False             False   False  False   \n",
       "...              ...        ...               ...     ...    ...   \n",
       "9659           False      False             False   False  False   \n",
       "9660           False      False             False   False  False   \n",
       "9661           False      False             False   False  False   \n",
       "9662           False      False             False   False  False   \n",
       "9663           False      False             False   False  False   \n",
       "\n",
       "      treatment_date  \n",
       "0              False  \n",
       "1              False  \n",
       "2              False  \n",
       "3              False  \n",
       "4              False  \n",
       "...              ...  \n",
       "9659           False  \n",
       "9660           False  \n",
       "9661           False  \n",
       "9662           False  \n",
       "9663           False  \n",
       "\n",
       "[9664 rows x 16 columns]"
      ]
     },
     "execution_count": 34,
     "metadata": {},
     "output_type": "execute_result"
    }
   ],
   "source": [
    "#Do we need to remove nans?\n",
    "\n",
    "#Heres how we can find out whether or not we have Nans in the data\n",
    "nan_index = df_completion.isna()\n",
    "print(nan_index.sum()) #add up the number of Trues over each column\n",
    "nan_index #displays the dataframe in human readable format\n",
    "\n",
    "#It looks like we have no Nans. In the real world, we might have to deal with Nans\n",
    "#You can clear Nans with df_completion.dropna(how='any', axis=0)"
   ]
  },
  {
   "cell_type": "code",
   "execution_count": 36,
   "id": "administrative-management",
   "metadata": {},
   "outputs": [
    {
     "data": {
      "text/plain": [
       "Index(['API', 'bottom', 'file_number', 'fluid_bbl', 'fluid_bbl_per_ft',\n",
       "       'fluid_gal', 'fluid_gal_per_ft', 'ft_per_stage', 'lateral_length',\n",
       "       'max_treat_press', 'max_treat_rate', 'propp_lbs', 'propp_lbs_per_ft',\n",
       "       'stages', 'top', 'treatment_date'],\n",
       "      dtype='object')"
      ]
     },
     "execution_count": 36,
     "metadata": {},
     "output_type": "execute_result"
    }
   ],
   "source": [
    "df_completion = df_completion.replace([np.inf, -np.inf], np.nan) # replace missing values with NaN\n",
    "df_completion = df_completion.fillna(0) # Replace all the NaN values with 0\n",
    "df_completion.columns # Show you all the columns in this file"
   ]
  },
  {
   "cell_type": "code",
   "execution_count": 40,
   "id": "center-membership",
   "metadata": {},
   "outputs": [
    {
     "data": {
      "text/plain": [
       "Index(['API', 'bottom', 'file_number', 'fluid_bbl', 'fluid_bbl_per_ft',\n",
       "       'fluid_gal', 'fluid_gal_per_ft', 'ft_per_stage', 'lateral_length',\n",
       "       'max_treat_press', 'max_treat_rate', 'propp_lbs', 'propp_lbs_per_ft',\n",
       "       'stages', 'top'],\n",
       "      dtype='object')"
      ]
     },
     "execution_count": 40,
     "metadata": {},
     "output_type": "execute_result"
    }
   ],
   "source": [
    "X = df_completion.drop(['treatment_date'], axis=1) # dropping  a column\n",
    "X.columns # checking if it is dropped"
   ]
  },
  {
   "cell_type": "code",
   "execution_count": null,
   "id": "qualified-canada",
   "metadata": {},
   "outputs": [],
   "source": []
  }
 ],
 "metadata": {
  "kernelspec": {
   "display_name": "ml_pytorch",
   "language": "python",
   "name": "ml_pytorch"
  },
  "language_info": {
   "codemirror_mode": {
    "name": "ipython",
    "version": 3
   },
   "file_extension": ".py",
   "mimetype": "text/x-python",
   "name": "python",
   "nbconvert_exporter": "python",
   "pygments_lexer": "ipython3",
   "version": "3.7.10"
  }
 },
 "nbformat": 4,
 "nbformat_minor": 5
}
